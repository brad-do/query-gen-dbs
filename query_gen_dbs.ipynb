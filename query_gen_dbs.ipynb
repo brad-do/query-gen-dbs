{
 "cells": [
  {
   "cell_type": "markdown",
   "metadata": {},
   "source": [
    "## [Roots Magic](http://www.rootsmagic.com/) comes highly recommended from a lot of genealogists and it's the software I personally use.  \n",
    "\n",
    "## One really cool feature of the product I learned about a year ago is that the back-end of the software is actually a [SQLite](https://www.sqlite.org/index.html) database, which means that there are ways you can access and work with your data outside of the Roots Magic user interface.  Indeed, the site [SQLiteToolsForRootsMagic](https://sqlitetoolsforrootsmagic.wikispaces.com/) was set up many years ago to offer tips, tricks, and capture popular queries for this exact purpose--although, sadly, it looks like [WikiSpaces](http://www.wikispaces.com/), the platform on which SQLiteToolsForRootsMagic was built, [will be decommissioned very soon](http://helpcenter.wikispaces.com/customer/en/portal/articles/2920537-classroom-and-free-wikis); thus, I suspect the resources on SQLiteToolsForRootsMagic may be [moving](https://sqlitetoolsforrootsmagic.wikispaces.com/Migrating%20from%20Wikispaces) shortly.\n",
    "\n",
    "## Anyway, it seems most people use tools like [SQLiteSpy](http://www.yunqa.de/delphi/doku.php/products/sqlitespy/index) to interface with their Roots Magic databases.  Well, I thought to myself, fooey on that!  Let's see if I can load and explore a Roots Magic database in Jupyter Notebook.  Here are the results.\n",
    "\n",
    "## For this example, I downloaded a [gedcom file of George Washington's family tree](http://famousfamilytrees.blogspot.com/2011/12/httpgenealogyoflife.html) and saved it as a Roots Magic file.  Then, I loaded the Roots Magic file into this notebook and generated some rudimentary queries and graphs.  Hope you find this helpful!"
   ]
  },
  {
   "cell_type": "markdown",
   "metadata": {},
   "source": [
    "### Step 1: Import the necessary packages"
   ]
  },
  {
   "cell_type": "code",
   "execution_count": 86,
   "metadata": {},
   "outputs": [
    {
     "name": "stdout",
     "output_type": "stream",
     "text": [
      "The sql_magic extension is already loaded. To reload it, use:\n",
      "  %reload_ext sql_magic\n"
     ]
    }
   ],
   "source": [
    "import sqlite3\n",
    "import pandas as pd\n",
    "import numpy as np\n",
    "import matplotlib\n",
    "import matplotlib.pyplot as plt\n",
    "import matplotlib.style as style\n",
    "\n",
    "%load_ext sql_magic\n",
    "%matplotlib inline\n",
    "plt.style.use('fivethirtyeight')"
   ]
  },
  {
   "cell_type": "markdown",
   "metadata": {},
   "source": [
    "### Step 2: Open a sqlite connection to the Roots Magic database you'd like to explore.  Here, I'll explore [the family tree of US President George Washington](http://genealogyoflife.com/tng/gedcom/GeorgeWashingtonFamilyBig.ged)."
   ]
  },
  {
   "cell_type": "code",
   "execution_count": 87,
   "metadata": {},
   "outputs": [],
   "source": [
    "# Note that sqlite seems to require a full path to the file you wish to load\n",
    "conn = sqlite3.connect(\"C:\\\\data_files\\\\qsync_laptop\\\\jupyter_notebooks\\\\query_gen_dbs\\\\GeorgeWashingtonFamilyBig.rmgc\")\n",
    "%config SQL.conn_name='conn'\n",
    "cur = conn.cursor()"
   ]
  },
  {
   "cell_type": "markdown",
   "metadata": {},
   "source": [
    "### Step 3: Now, start exploring!"
   ]
  },
  {
   "cell_type": "markdown",
   "metadata": {},
   "source": [
    "What tables are there in the Roots Magic database?"
   ]
  },
  {
   "cell_type": "code",
   "execution_count": 88,
   "metadata": {},
   "outputs": [
    {
     "name": "stdout",
     "output_type": "stream",
     "text": [
      "Query started at 06:09:28 PM Eastern Daylight Time; Query executed in 0.00 m"
     ]
    },
    {
     "data": {
      "text/html": [
       "<div>\n",
       "<style>\n",
       "    .dataframe thead tr:only-child th {\n",
       "        text-align: right;\n",
       "    }\n",
       "\n",
       "    .dataframe thead th {\n",
       "        text-align: left;\n",
       "    }\n",
       "\n",
       "    .dataframe tbody tr th {\n",
       "        vertical-align: top;\n",
       "    }\n",
       "</style>\n",
       "<table border=\"1\" class=\"dataframe\">\n",
       "  <thead>\n",
       "    <tr style=\"text-align: right;\">\n",
       "      <th></th>\n",
       "      <th>name</th>\n",
       "    </tr>\n",
       "  </thead>\n",
       "  <tbody>\n",
       "    <tr>\n",
       "      <th>0</th>\n",
       "      <td>ConfigTable</td>\n",
       "    </tr>\n",
       "    <tr>\n",
       "      <th>1</th>\n",
       "      <td>PersonTable</td>\n",
       "    </tr>\n",
       "    <tr>\n",
       "      <th>2</th>\n",
       "      <td>FamilyTable</td>\n",
       "    </tr>\n",
       "    <tr>\n",
       "      <th>3</th>\n",
       "      <td>ChildTable</td>\n",
       "    </tr>\n",
       "    <tr>\n",
       "      <th>4</th>\n",
       "      <td>EventTable</td>\n",
       "    </tr>\n",
       "    <tr>\n",
       "      <th>5</th>\n",
       "      <td>AddressTable</td>\n",
       "    </tr>\n",
       "    <tr>\n",
       "      <th>6</th>\n",
       "      <td>FactTypeTable</td>\n",
       "    </tr>\n",
       "    <tr>\n",
       "      <th>7</th>\n",
       "      <td>MultimediaTable</td>\n",
       "    </tr>\n",
       "    <tr>\n",
       "      <th>8</th>\n",
       "      <td>MediaLinkTable</td>\n",
       "    </tr>\n",
       "    <tr>\n",
       "      <th>9</th>\n",
       "      <td>NameTable</td>\n",
       "    </tr>\n",
       "    <tr>\n",
       "      <th>10</th>\n",
       "      <td>PlaceTable</td>\n",
       "    </tr>\n",
       "    <tr>\n",
       "      <th>11</th>\n",
       "      <td>ResearchTable</td>\n",
       "    </tr>\n",
       "    <tr>\n",
       "      <th>12</th>\n",
       "      <td>ResearchItemTable</td>\n",
       "    </tr>\n",
       "    <tr>\n",
       "      <th>13</th>\n",
       "      <td>SourceTable</td>\n",
       "    </tr>\n",
       "    <tr>\n",
       "      <th>14</th>\n",
       "      <td>CitationTable</td>\n",
       "    </tr>\n",
       "    <tr>\n",
       "      <th>15</th>\n",
       "      <td>AddressLinkTable</td>\n",
       "    </tr>\n",
       "    <tr>\n",
       "      <th>16</th>\n",
       "      <td>WitnessTable</td>\n",
       "    </tr>\n",
       "    <tr>\n",
       "      <th>17</th>\n",
       "      <td>LinkTable</td>\n",
       "    </tr>\n",
       "    <tr>\n",
       "      <th>18</th>\n",
       "      <td>LinkAncestryTable</td>\n",
       "    </tr>\n",
       "    <tr>\n",
       "      <th>19</th>\n",
       "      <td>RoleTable</td>\n",
       "    </tr>\n",
       "    <tr>\n",
       "      <th>20</th>\n",
       "      <td>GroupTable</td>\n",
       "    </tr>\n",
       "    <tr>\n",
       "      <th>21</th>\n",
       "      <td>ExclusionTable</td>\n",
       "    </tr>\n",
       "    <tr>\n",
       "      <th>22</th>\n",
       "      <td>SourceTemplateTable</td>\n",
       "    </tr>\n",
       "    <tr>\n",
       "      <th>23</th>\n",
       "      <td>LabelTable</td>\n",
       "    </tr>\n",
       "    <tr>\n",
       "      <th>24</th>\n",
       "      <td>URLTable</td>\n",
       "    </tr>\n",
       "  </tbody>\n",
       "</table>\n",
       "</div>"
      ],
      "text/plain": [
       "                   name\n",
       "0           ConfigTable\n",
       "1           PersonTable\n",
       "2           FamilyTable\n",
       "3            ChildTable\n",
       "4            EventTable\n",
       "5          AddressTable\n",
       "6         FactTypeTable\n",
       "7       MultimediaTable\n",
       "8        MediaLinkTable\n",
       "9             NameTable\n",
       "10           PlaceTable\n",
       "11        ResearchTable\n",
       "12    ResearchItemTable\n",
       "13          SourceTable\n",
       "14        CitationTable\n",
       "15     AddressLinkTable\n",
       "16         WitnessTable\n",
       "17            LinkTable\n",
       "18    LinkAncestryTable\n",
       "19            RoleTable\n",
       "20           GroupTable\n",
       "21       ExclusionTable\n",
       "22  SourceTemplateTable\n",
       "23           LabelTable\n",
       "24             URLTable"
      ]
     },
     "execution_count": 88,
     "metadata": {},
     "output_type": "execute_result"
    }
   ],
   "source": [
    "%%read_sql df_result\n",
    "SELECT name \n",
    "FROM sqlite_master \n",
    "WHERE type='table'"
   ]
  },
  {
   "cell_type": "markdown",
   "metadata": {},
   "source": [
    "If I want to know the columns of a particular table, I can query sqlite_master for the information."
   ]
  },
  {
   "cell_type": "code",
   "execution_count": 89,
   "metadata": {},
   "outputs": [
    {
     "name": "stdout",
     "output_type": "stream",
     "text": [
      "[('CREATE TABLE NameTable (NameID INTEGER PRIMARY KEY, OwnerID INTEGER, Surname TEXT COLLATE RMNOCASE, Given TEXT COLLATE RMNOCASE, Prefix TEXT COLLATE RMNOCASE, Suffix TEXT COLLATE RMNOCASE, Nickname TEXT COLLATE RMNOCASE, NameType INTEGER, Date TEXT, SortDate INTEGER, IsPrimary INTEGER, IsPrivate INTEGER, Proof INTEGER, EditDate FLOAT, Sentence BLOB, Note BLOB, BirthYear INTEGER, DeathYear INTEGER )',), ('CREATE INDEX idxNameOwnerID ON NameTable (OwnerID)',), ('CREATE INDEX idxSurname ON NameTable (Surname)',), ('CREATE INDEX idxGiven ON NameTable (Given)',), ('CREATE INDEX idxSurnameGiven ON NameTable (Surname, Given, BirthYear, DeathYear)',), ('CREATE INDEX idxNamePrimary ON NameTable (IsPrimary)',)]\n"
     ]
    }
   ],
   "source": [
    "cur.execute(\"SELECT sql FROM sqlite_master WHERE tbl_name='NameTable'\")\n",
    "r = cur.fetchall()\n",
    "print(r)"
   ]
  },
  {
   "cell_type": "code",
   "execution_count": 90,
   "metadata": {},
   "outputs": [
    {
     "name": "stdout",
     "output_type": "stream",
     "text": [
      "[('CREATE TABLE EventTable (EventID INTEGER PRIMARY KEY, EventType INTEGER, OwnerType INTEGER, OwnerID INTEGER, FamilyID INTEGER, PlaceID INTEGER, SiteID INTEGER, Date TEXT, SortDate INTEGER, IsPrimary INTEGER, IsPrivate INTEGER, Proof INTEGER, Status INTEGER, EditDate FLOAT, Sentence BLOB, Details BLOB, Note BLOB )',), ('CREATE INDEX idxOwnerEvent ON EventTable (OwnerID,EventType)',), ('CREATE INDEX idxOwnerDate ON EventTable (OwnerID,SortDate)',)]\n"
     ]
    }
   ],
   "source": [
    "cur.execute(\"SELECT sql FROM sqlite_master WHERE tbl_name='EventTable'\")\n",
    "r = cur.fetchall()\n",
    "print(r)"
   ]
  },
  {
   "cell_type": "markdown",
   "metadata": {},
   "source": [
    "Let's get some basic information on this database."
   ]
  },
  {
   "cell_type": "code",
   "execution_count": 91,
   "metadata": {},
   "outputs": [
    {
     "name": "stdout",
     "output_type": "stream",
     "text": [
      "This database contains 529 individuals.\n",
      "It includes 114 families.\n",
      "It includes 2679 events.\n"
     ]
    }
   ],
   "source": [
    "cur.execute(\"SELECT OwnerID FROM NameTable\")\n",
    "nbr_of_people = len(cur.fetchall())\n",
    "cur.execute(\"SELECT FamilyID FROM FamilyTable\")\n",
    "nbr_of_families = len(cur.fetchall())\n",
    "cur.execute(\"SELECT FamilyID FROM FamilyTable\")\n",
    "nbr_of_families = len(cur.fetchall())\n",
    "cur.execute(\"SELECT FamilyID FROM EventTable\")\n",
    "nbr_of_events = len(cur.fetchall())\n",
    "\n",
    "print('This database contains {0} individuals.'.format(nbr_of_people))\n",
    "print('It includes {0} families.'.format(nbr_of_families))\n",
    "print('It includes {0} events.'.format(nbr_of_events))"
   ]
  },
  {
   "cell_type": "markdown",
   "metadata": {},
   "source": [
    "A note about this whole \"COLLATE NOCASE\" thing:\n",
    "\n",
    "To quote from [sqlitetoolsforrootsmagic.wikispaces.com](https://sqlitetoolsforrootsmagic.wikispaces.com/RMNOCASE%20-%20faking%20it%20in%20SQLiteSpy), \"RootsMagic 4+ has an internal, proprietary collation sequence called RMNOCASE that controls the order in which names of people, places, sources, etc. are sorted.\"  SQLiteToolsForRootsMagic came up with some ingenius work-arounds for the COLLATE NOCASE challenge.  Unfortunately, I've found no way to incorporate their extensions into Jupyter Notebook.  There may be a way to do it--I just haven't found it.  So, for any SQL query I want to run against a column that's associated with RMNOCASE, I'll have to include the COLLATE NOCASE syntax."
   ]
  },
  {
   "cell_type": "markdown",
   "metadata": {},
   "source": [
    "Let's see if we can figure out who the oldest person is in this tree.\n",
    "\n",
    "To do this, I'll look up George Washington in both the NameTable and EventTable and see if I can get an idea of what to look for."
   ]
  },
  {
   "cell_type": "code",
   "execution_count": 92,
   "metadata": {},
   "outputs": [
    {
     "name": "stdout",
     "output_type": "stream",
     "text": [
      "Query started at 06:09:28 PM Eastern Daylight Time; Query executed in 0.00 m"
     ]
    },
    {
     "data": {
      "text/html": [
       "<div>\n",
       "<style>\n",
       "    .dataframe thead tr:only-child th {\n",
       "        text-align: right;\n",
       "    }\n",
       "\n",
       "    .dataframe thead th {\n",
       "        text-align: left;\n",
       "    }\n",
       "\n",
       "    .dataframe tbody tr th {\n",
       "        vertical-align: top;\n",
       "    }\n",
       "</style>\n",
       "<table border=\"1\" class=\"dataframe\">\n",
       "  <thead>\n",
       "    <tr style=\"text-align: right;\">\n",
       "      <th></th>\n",
       "      <th>NameID</th>\n",
       "      <th>OwnerID</th>\n",
       "      <th>Surname</th>\n",
       "      <th>Given</th>\n",
       "      <th>Prefix</th>\n",
       "      <th>Suffix</th>\n",
       "      <th>Nickname</th>\n",
       "      <th>NameType</th>\n",
       "      <th>Date</th>\n",
       "      <th>SortDate</th>\n",
       "      <th>IsPrimary</th>\n",
       "      <th>IsPrivate</th>\n",
       "      <th>Proof</th>\n",
       "      <th>EditDate</th>\n",
       "      <th>Sentence</th>\n",
       "      <th>Note</th>\n",
       "      <th>BirthYear</th>\n",
       "      <th>DeathYear</th>\n",
       "    </tr>\n",
       "  </thead>\n",
       "  <tbody>\n",
       "    <tr>\n",
       "      <th>0</th>\n",
       "      <td>1</td>\n",
       "      <td>1</td>\n",
       "      <td>WASHINGTON</td>\n",
       "      <td>George</td>\n",
       "      <td></td>\n",
       "      <td>[FIRST U.S. PRESIDENT]</td>\n",
       "      <td></td>\n",
       "      <td>0</td>\n",
       "      <td>.</td>\n",
       "      <td>9223372036854775807</td>\n",
       "      <td>1</td>\n",
       "      <td>0</td>\n",
       "      <td>0</td>\n",
       "      <td>0.0</td>\n",
       "      <td></td>\n",
       "      <td></td>\n",
       "      <td>1732</td>\n",
       "      <td>1799</td>\n",
       "    </tr>\n",
       "  </tbody>\n",
       "</table>\n",
       "</div>"
      ],
      "text/plain": [
       "   NameID  OwnerID     Surname   Given Prefix                  Suffix  \\\n",
       "0       1        1  WASHINGTON  George         [FIRST U.S. PRESIDENT]   \n",
       "\n",
       "  Nickname  NameType Date             SortDate  IsPrimary  IsPrivate  Proof  \\\n",
       "0                  0    .  9223372036854775807          1          0      0   \n",
       "\n",
       "   EditDate Sentence Note  BirthYear  DeathYear  \n",
       "0       0.0                     1732       1799  "
      ]
     },
     "execution_count": 92,
     "metadata": {},
     "output_type": "execute_result"
    }
   ],
   "source": [
    "%%read_sql df_result\n",
    "SELECT * \n",
    "FROM NameTable \n",
    "WHERE Suffix COLLATE NOCASE = '[FIRST U.S. PRESIDENT]'"
   ]
  },
  {
   "cell_type": "code",
   "execution_count": 93,
   "metadata": {},
   "outputs": [
    {
     "name": "stdout",
     "output_type": "stream",
     "text": [
      "Query started at 06:09:29 PM Eastern Daylight Time; Query executed in 0.00 m"
     ]
    },
    {
     "data": {
      "text/html": [
       "<div>\n",
       "<style>\n",
       "    .dataframe thead tr:only-child th {\n",
       "        text-align: right;\n",
       "    }\n",
       "\n",
       "    .dataframe thead th {\n",
       "        text-align: left;\n",
       "    }\n",
       "\n",
       "    .dataframe tbody tr th {\n",
       "        vertical-align: top;\n",
       "    }\n",
       "</style>\n",
       "<table border=\"1\" class=\"dataframe\">\n",
       "  <thead>\n",
       "    <tr style=\"text-align: right;\">\n",
       "      <th></th>\n",
       "      <th>n.Surname COLLATE NOCASE</th>\n",
       "      <th>n.Given COLLATE NOCASE</th>\n",
       "      <th>IsPrimary</th>\n",
       "      <th>EventType</th>\n",
       "      <th>OwnerType</th>\n",
       "      <th>Date</th>\n",
       "      <th>EditDate</th>\n",
       "      <th>SortDate</th>\n",
       "      <th>IsPrimary</th>\n",
       "    </tr>\n",
       "  </thead>\n",
       "  <tbody>\n",
       "    <tr>\n",
       "      <th>0</th>\n",
       "      <td>WASHINGTON</td>\n",
       "      <td>George</td>\n",
       "      <td>1</td>\n",
       "      <td>300</td>\n",
       "      <td>1</td>\n",
       "      <td>D.+17310306..+00000000..</td>\n",
       "      <td>43283.857021</td>\n",
       "      <td>6604074772415381516</td>\n",
       "      <td>0</td>\n",
       "    </tr>\n",
       "    <tr>\n",
       "      <th>1</th>\n",
       "      <td>WASHINGTON</td>\n",
       "      <td>George</td>\n",
       "      <td>1</td>\n",
       "      <td>1</td>\n",
       "      <td>0</td>\n",
       "      <td>D.+17320222..+00000000..</td>\n",
       "      <td>43283.857017</td>\n",
       "      <td>6604611334089736204</td>\n",
       "      <td>0</td>\n",
       "    </tr>\n",
       "    <tr>\n",
       "      <th>2</th>\n",
       "      <td>WASHINGTON</td>\n",
       "      <td>George</td>\n",
       "      <td>1</td>\n",
       "      <td>2</td>\n",
       "      <td>0</td>\n",
       "      <td>D.+17991214..+00000000..</td>\n",
       "      <td>43283.857017</td>\n",
       "      <td>6642676426643341324</td>\n",
       "      <td>0</td>\n",
       "    </tr>\n",
       "    <tr>\n",
       "      <th>3</th>\n",
       "      <td>WASHINGTON</td>\n",
       "      <td>George</td>\n",
       "      <td>1</td>\n",
       "      <td>4</td>\n",
       "      <td>0</td>\n",
       "      <td>D.+17991218..+00000000..</td>\n",
       "      <td>43283.857017</td>\n",
       "      <td>6642678625666596876</td>\n",
       "      <td>0</td>\n",
       "    </tr>\n",
       "    <tr>\n",
       "      <th>4</th>\n",
       "      <td>WASHINGTON</td>\n",
       "      <td>George</td>\n",
       "      <td>1</td>\n",
       "      <td>37</td>\n",
       "      <td>0</td>\n",
       "      <td>.</td>\n",
       "      <td>43283.857017</td>\n",
       "      <td>9223372036854775807</td>\n",
       "      <td>0</td>\n",
       "    </tr>\n",
       "    <tr>\n",
       "      <th>5</th>\n",
       "      <td>WASHINGTON</td>\n",
       "      <td>George</td>\n",
       "      <td>1</td>\n",
       "      <td>32</td>\n",
       "      <td>0</td>\n",
       "      <td>T22 AUG 1877 SG</td>\n",
       "      <td>43283.857017</td>\n",
       "      <td>9223372036854775807</td>\n",
       "      <td>0</td>\n",
       "    </tr>\n",
       "    <tr>\n",
       "      <th>6</th>\n",
       "      <td>WASHINGTON</td>\n",
       "      <td>George</td>\n",
       "      <td>1</td>\n",
       "      <td>33</td>\n",
       "      <td>0</td>\n",
       "      <td>T30 APR 1968 LA</td>\n",
       "      <td>43283.857017</td>\n",
       "      <td>9223372036854775807</td>\n",
       "      <td>0</td>\n",
       "    </tr>\n",
       "    <tr>\n",
       "      <th>7</th>\n",
       "      <td>WASHINGTON</td>\n",
       "      <td>George</td>\n",
       "      <td>1</td>\n",
       "      <td>31</td>\n",
       "      <td>0</td>\n",
       "      <td>T21 AUG 1877 SG</td>\n",
       "      <td>43283.857017</td>\n",
       "      <td>9223372036854775807</td>\n",
       "      <td>0</td>\n",
       "    </tr>\n",
       "    <tr>\n",
       "      <th>8</th>\n",
       "      <td>WASHINGTON</td>\n",
       "      <td>George</td>\n",
       "      <td>1</td>\n",
       "      <td>34</td>\n",
       "      <td>0</td>\n",
       "      <td>.</td>\n",
       "      <td>43283.857017</td>\n",
       "      <td>9223372036854775807</td>\n",
       "      <td>0</td>\n",
       "    </tr>\n",
       "    <tr>\n",
       "      <th>9</th>\n",
       "      <td>WASHINGTON</td>\n",
       "      <td>George</td>\n",
       "      <td>1</td>\n",
       "      <td>309</td>\n",
       "      <td>1</td>\n",
       "      <td>T23 AUG 1877 SG</td>\n",
       "      <td>43283.857021</td>\n",
       "      <td>9223372036854775807</td>\n",
       "      <td>0</td>\n",
       "    </tr>\n",
       "  </tbody>\n",
       "</table>\n",
       "</div>"
      ],
      "text/plain": [
       "  n.Surname COLLATE NOCASE n.Given COLLATE NOCASE  IsPrimary  EventType  \\\n",
       "0               WASHINGTON                 George          1        300   \n",
       "1               WASHINGTON                 George          1          1   \n",
       "2               WASHINGTON                 George          1          2   \n",
       "3               WASHINGTON                 George          1          4   \n",
       "4               WASHINGTON                 George          1         37   \n",
       "5               WASHINGTON                 George          1         32   \n",
       "6               WASHINGTON                 George          1         33   \n",
       "7               WASHINGTON                 George          1         31   \n",
       "8               WASHINGTON                 George          1         34   \n",
       "9               WASHINGTON                 George          1        309   \n",
       "\n",
       "   OwnerType                      Date      EditDate             SortDate  \\\n",
       "0          1  D.+17310306..+00000000..  43283.857021  6604074772415381516   \n",
       "1          0  D.+17320222..+00000000..  43283.857017  6604611334089736204   \n",
       "2          0  D.+17991214..+00000000..  43283.857017  6642676426643341324   \n",
       "3          0  D.+17991218..+00000000..  43283.857017  6642678625666596876   \n",
       "4          0                         .  43283.857017  9223372036854775807   \n",
       "5          0           T22 AUG 1877 SG  43283.857017  9223372036854775807   \n",
       "6          0           T30 APR 1968 LA  43283.857017  9223372036854775807   \n",
       "7          0           T21 AUG 1877 SG  43283.857017  9223372036854775807   \n",
       "8          0                         .  43283.857017  9223372036854775807   \n",
       "9          1           T23 AUG 1877 SG  43283.857021  9223372036854775807   \n",
       "\n",
       "   IsPrimary  \n",
       "0          0  \n",
       "1          0  \n",
       "2          0  \n",
       "3          0  \n",
       "4          0  \n",
       "5          0  \n",
       "6          0  \n",
       "7          0  \n",
       "8          0  \n",
       "9          0  "
      ]
     },
     "execution_count": 93,
     "metadata": {},
     "output_type": "execute_result"
    }
   ],
   "source": [
    "%%read_sql df_result\n",
    "SELECT n.Surname COLLATE NOCASE\n",
    "    ,n.Given COLLATE NOCASE\n",
    "    ,n.IsPrimary\n",
    "    ,e.EventType \n",
    "    ,e.OwnerType \n",
    "    ,e.Date\n",
    "    ,e.EditDate\n",
    "    ,e.SortDate\n",
    "    ,e.IsPrimary\n",
    "FROM NameTable n\n",
    "JOIN EventTable e ON n.OwnerID = e.OwnerID\n",
    "WHERE n.Suffix COLLATE NOCASE = '[FIRST U.S. PRESIDENT]'\n",
    "--WHERE n.Given COLLATE NOCASE = 'John'"
   ]
  },
  {
   "cell_type": "markdown",
   "metadata": {},
   "source": [
    "So, it seems that if I join the NameTable and EventTable and look for an EventType of 1--I assume \"1\" EventTypes are birth events--and then look for the oldest \"Date\" field, I might be able to find the oldest person in the database.  One important note: the EventTable.Date field is a Text field that seems to support a variety of date formats.  Check out [this document](RootsMagic4DataDefs.ods) from the [sqlitetoolsforrootsmagic.wikispaces.com](http://sqlitetoolsforrootsmagic.wikispaces.com) for more information.  \n",
    "\n",
    "Under the circumstances, I'll look for date values with a \"D\" prefix and see what I can come up with."
   ]
  },
  {
   "cell_type": "code",
   "execution_count": 94,
   "metadata": {},
   "outputs": [
    {
     "name": "stdout",
     "output_type": "stream",
     "text": [
      "Query started at 06:09:29 PM Eastern Daylight Time; Query executed in 0.00 m"
     ]
    },
    {
     "data": {
      "text/html": [
       "<div>\n",
       "<style>\n",
       "    .dataframe thead tr:only-child th {\n",
       "        text-align: right;\n",
       "    }\n",
       "\n",
       "    .dataframe thead th {\n",
       "        text-align: left;\n",
       "    }\n",
       "\n",
       "    .dataframe tbody tr th {\n",
       "        vertical-align: top;\n",
       "    }\n",
       "</style>\n",
       "<table border=\"1\" class=\"dataframe\">\n",
       "  <thead>\n",
       "    <tr style=\"text-align: right;\">\n",
       "      <th></th>\n",
       "      <th>Surname</th>\n",
       "      <th>Given</th>\n",
       "      <th>birth_date</th>\n",
       "    </tr>\n",
       "  </thead>\n",
       "  <tbody>\n",
       "    <tr>\n",
       "      <th>0</th>\n",
       "      <td>BERKELEY</td>\n",
       "      <td>John De</td>\n",
       "      <td>13510121</td>\n",
       "    </tr>\n",
       "  </tbody>\n",
       "</table>\n",
       "</div>"
      ],
      "text/plain": [
       "    Surname    Given birth_date\n",
       "0  BERKELEY  John De   13510121"
      ]
     },
     "execution_count": 94,
     "metadata": {},
     "output_type": "execute_result"
    }
   ],
   "source": [
    "%%read_sql df_result\n",
    "SELECT n.Surname COLLATE NOCASE AS Surname\n",
    "    ,n.Given COLLATE NOCASE AS Given\n",
    "    ,SUBSTR(e.Date, 4, 8) AS birth_date\n",
    "FROM NameTable n\n",
    "JOIN EventTable e ON n.OwnerID = e.OwnerID\n",
    "WHERE e.EventType = 1 AND e.OwnerType = 0 AND e.Date LIKE 'D%' AND TRIM(birth_date) <> ''\n",
    "ORDER BY CAST(birth_date AS Integer)\n",
    "LIMIT 1"
   ]
  },
  {
   "cell_type": "markdown",
   "metadata": {},
   "source": [
    "So, by my calculations, it appears John De Berkeley is the oldest person in this tree--at least among those with a recorded birthdate in the format I'm expecting."
   ]
  },
  {
   "cell_type": "code",
   "execution_count": 95,
   "metadata": {},
   "outputs": [
    {
     "name": "stdout",
     "output_type": "stream",
     "text": [
      "Query started at 06:09:29 PM Eastern Daylight Time; Query executed in 0.00 m"
     ]
    },
    {
     "data": {
      "text/plain": [
       "<matplotlib.axes._subplots.AxesSubplot at 0x27dfc0fd5c0>"
      ]
     },
     "execution_count": 95,
     "metadata": {},
     "output_type": "execute_result"
    },
    {
     "data": {
      "image/png": "[encoded data removed]",
      "text/plain": [
       "<Figure size 432x288 with 1 Axes>"
      ]
     },
     "metadata": {},
     "output_type": "display_data"
    }
   ],
   "source": [
    "df_surnames = %read_sql SELECT OwnerID, Surname COLLATE NOCASE AS Surname FROM NameTable\n",
    "df_surnames.groupby('Surname').size().nlargest(10).plot.barh(title='10 Most Prevalent Surnames in this Database')"
   ]
  },
  {
   "cell_type": "markdown",
   "metadata": {},
   "source": [
    "Let's do a little bit of analysis on how long people lived in this family tree.  To keep things simple, I'll just calculate on the birth year and death year of each individual instead of the individual's actual birth date and death date.  I may be plus or minus a year on certain people, but this will give me a decent rough estimate."
   ]
  },
  {
   "cell_type": "code",
   "execution_count": 96,
   "metadata": {},
   "outputs": [
    {
     "name": "stdout",
     "output_type": "stream",
     "text": [
      "Query started at 06:09:29 PM Eastern Daylight Time; Query executed in 0.00 m"
     ]
    }
   ],
   "source": [
    "%%read_sql df_ages -d\n",
    "SELECT OwnerID\n",
    "    ,Surname COLLATE NOCASE AS Surname\n",
    "    ,Given COLLATE NOCASE AS Given\n",
    "    ,BirthYear AS BirthYear\n",
    "    ,DeathYear AS DeathYear\n",
    "    ,(DeathYear - BirthYear) AS age\n",
    "FROM NameTable n\n",
    "WHERE COALESCE(BirthYear, 0) > 0 AND COALESCE(DeathYear, 0) > 0\n",
    "    AND (age BETWEEN 0 AND 110) --remove anyone over 110 years of age or under 0 as that's a likely error"
   ]
  },
  {
   "cell_type": "code",
   "execution_count": 97,
   "metadata": {},
   "outputs": [
    {
     "name": "stdout",
     "output_type": "stream",
     "text": [
      "This family tree contains 192 individuals with recorded birth and death dates.\n",
      "The oldest person in the tree is John WASHINGTON at age 99.\n",
      "The youngest person in the tree is Mildred WASHINGTON at age 1.\n",
      "The average age for family members in this tree is 52.9 years.\n",
      "The median age for family members in this tree is 52.0 years.\n"
     ]
    }
   ],
   "source": [
    "oldest = df_ages.sort_values('age', ascending=False).head(1)\n",
    "youngest = df_ages.sort_values('age').head(1)\n",
    "print('This family tree contains {0} individuals with recorded birth and death dates.'.format(df_ages.shape[0]))\n",
    "print('The oldest person in the tree is {0} {1} at age {2}.'.format(oldest.Given.values[0], oldest.Surname.values[0], \n",
    "                                                                   oldest.age.values[0]))\n",
    "print('The youngest person in the tree is {0} {1} at age {2}.'.format(youngest.Given.values[0], youngest.Surname.values[0], \n",
    "                                                                      youngest.age.values[0]))\n",
    "print('The average age for family members in this tree is {0:.1f} years.'.format(df_ages.age.mean()))\n",
    "print('The median age for family members in this tree is {0:.1f} years.'.format(df_ages.age.median()))"
   ]
  },
  {
   "cell_type": "markdown",
   "metadata": {},
   "source": [
    "Let's scatter plot the ages to see if there's anything interesting there."
   ]
  },
  {
   "cell_type": "code",
   "execution_count": 98,
   "metadata": {},
   "outputs": [
    {
     "data": {
      "text/plain": [
       "<matplotlib.axes._subplots.AxesSubplot at 0x27d8050a278>"
      ]
     },
     "execution_count": 98,
     "metadata": {},
     "output_type": "execute_result"
    },
    {
     "data": {
      "image/png": "[encoded data removed]",
      "text/plain": [
       "<Figure size 720x504 with 1 Axes>"
      ]
     },
     "metadata": {},
     "output_type": "display_data"
    }
   ],
   "source": [
    "title = 'A scatter plot of ages over the years in this family tree'\n",
    "df_ages.plot.scatter(x='DeathYear', y='age', figsize=(10, 7), title=title)\n",
    "\n",
    "# not sure this is the right way to do a trend line, so i'll comment it out for now\n",
    "# x = df_ages.DeathYear\n",
    "# y = df_ages.age\n",
    "# z = np.polyfit(x, y, 1)\n",
    "# p = np.poly1d(z)\n",
    "# plt.plot(x,p(x),\"r--\")\n",
    "\n",
    "# plt.show()"
   ]
  },
  {
   "cell_type": "code",
   "execution_count": 99,
   "metadata": {},
   "outputs": [
    {
     "name": "stdout",
     "output_type": "stream",
     "text": [
      "Query started at 06:09:30 PM Eastern Daylight Time; Query executed in 0.00 m"
     ]
    }
   ],
   "source": [
    "%%read_sql df_family_sizes -d\n",
    "SELECT FamilyID\n",
    "    ,COUNT(*) AS family_size\n",
    "FROM ChildTable\n",
    "GROUP BY FamilyID"
   ]
  },
  {
   "cell_type": "markdown",
   "metadata": {},
   "source": [
    "How about checking out the distribution of family sizes?"
   ]
  },
  {
   "cell_type": "code",
   "execution_count": 100,
   "metadata": {},
   "outputs": [
    {
     "data": {
      "text/plain": [
       "[Text(0,0.5,'Number of Families in Bin'),\n",
       " Text(0.5,0,'Number of Children per Family')]"
      ]
     },
     "execution_count": 100,
     "metadata": {},
     "output_type": "execute_result"
    },
    {
     "data": {
      "image/png": "[encoded data removed]",
      "text/plain": [
       "<Figure size 720x504 with 1 Axes>"
      ]
     },
     "metadata": {},
     "output_type": "display_data"
    }
   ],
   "source": [
    "title = 'A histogram of family sizes (number of children per family) in this tree'\n",
    "ax = df_family_sizes.family_size.plot.hist(bins=20, figsize=(10, 7), title=title)\n",
    "ax.set(xlabel=\"Number of Children per Family\", ylabel=\"Number of Families in Bin\")"
   ]
  },
  {
   "cell_type": "markdown",
   "metadata": {},
   "source": [
    "Over half the families in this database only list one child; however, that's probably because the researcher only worked to document a single line and didn't spend time adding in brothers and sisters."
   ]
  },
  {
   "cell_type": "code",
   "execution_count": 101,
   "metadata": {},
   "outputs": [],
   "source": [
    "# when we're done looking at the database, let's be a good steward and close our connection\n",
    "cur.close()\n",
    "conn.close()"
   ]
  }
 ],
 "metadata": {
  "kernelspec": {
   "display_name": "Python 3",
   "language": "python",
   "name": "python3"
  },
  "language_info": {
   "codemirror_mode": {
    "name": "ipython",
    "version": 3
   },
   "file_extension": ".py",
   "mimetype": "text/x-python",
   "name": "python",
   "nbconvert_exporter": "python",
   "pygments_lexer": "ipython3",
   "version": "3.6.2"
  }
 },
 "nbformat": 4,
 "nbformat_minor": 2
}
